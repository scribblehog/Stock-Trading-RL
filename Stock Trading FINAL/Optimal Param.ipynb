{
 "cells": [
  {
   "cell_type": "code",
   "execution_count": 10,
   "metadata": {},
   "outputs": [
    {
     "name": "stdout",
     "output_type": "stream",
     "text": [
      "    Volatility  Trend  Sharpe  Reward  Combined\n",
      "8        -0.11   20.0  1.0925  0.9390  1.025857\n",
      "6        -0.11   10.0  1.1146  0.8780  0.978619\n",
      "10       -0.09   15.0  0.9852  0.9545  0.940373\n",
      "0        -0.15   10.0  1.2155  0.7615  0.925603\n",
      "12       -0.07   10.0  1.0281  0.8965  0.921692\n",
      "            Trend    Sharpe    Reward  Combined\n",
      "Volatility                                     \n",
      "-0.15        15.0  1.169067  0.746667  0.873104\n",
      "-0.13        15.0  1.086333  0.785000  0.853702\n",
      "-0.11        15.0  1.072567  0.844000  0.909018\n",
      "-0.09        15.0  1.023900  0.872333  0.891627\n",
      "-0.07        15.0  1.022900  0.751500  0.773192\n",
      "-0.05        15.0  0.741300  0.615167  0.456432\n",
      "-0.03        15.0  0.306500  0.688667  0.193895\n",
      " 0.00        15.0 -0.730733 -0.298500  0.232519\n",
      "       Volatility    Sharpe    Reward  Combined\n",
      "Trend                                          \n",
      "10.0     -0.07875  0.797738  0.644750  0.664926\n",
      "15.0     -0.07875  0.696337  0.649687  0.681268\n",
      "20.0     -0.07875  0.640362  0.582375  0.597614\n"
     ]
    }
   ],
   "source": [
    "#----------------------------------------CHOOSE HYPERPARAMETERS--------------------------------------------------------\n",
    "import numpy as np\n",
    "import pandas as pd\n",
    "\n",
    "#Read in the data\n",
    "with open('Data/Optimisation.txt') as f:\n",
    "    param_data = f.readlines()\n",
    "\n",
    "table = [None]*(len(param_data)//14)\n",
    "j=0\n",
    "#Calculate the average sharpe ratio and add it along with other data to a list\n",
    "for i in range(0,len(param_data),14):\n",
    "    avg_sharpe = (float(param_data[i+2])+float(param_data[i+3])+float(param_data[i+4])+float(param_data[i+5])+float(param_data[i+6]) + (float(param_data[i+7])+float(param_data[i+8])+float(param_data[i+9])+float(param_data[i+10])+float(param_data[i+11])))/10\n",
    "\n",
    "    trading_sharpe = (float(param_data[i+12])+float(param_data[i+13]))/2\n",
    "\n",
    "    table[j] = [float(param_data[i]), float(param_data[i+1]),float(avg_sharpe), float(trading_sharpe)]\n",
    "    j+=1\n",
    "\n",
    "#Make a dataframe of useful data\n",
    "df_param = pd.DataFrame(table, columns=[\"Volatility\",\"Trend\", \"Sharpe\", \"Reward\"])\n",
    "df_param[\"Combined\"]=df_param[\"Sharpe\"]*df_param[\"Reward\"]\n",
    "\n",
    "#Analyse the data\n",
    "df_bysharpe = df_param.sort_values(by=\"Sharpe\",ascending=False)\n",
    "df_byreward = df_param.sort_values(by=\"Reward\",ascending=False)\n",
    "df_bycomb = df_param.sort_values(by=\"Combined\",ascending=False)\n",
    "print(df_bycomb.head())\n",
    "\n",
    "df_avgvol = df_param.groupby(\"Volatility\").mean()\n",
    "print(df_avgvol)\n",
    "\n",
    "df_avgtrend = df_param.groupby(\"Trend\").mean()\n",
    "print(df_avgtrend)"
   ]
  }
 ],
 "metadata": {
  "interpreter": {
   "hash": "713137f339c4eb81ac14acf6220e3224ac4a4befc7c4a0fb5d9b65ee6f56845a"
  },
  "kernelspec": {
   "display_name": "Python 3.6.13 64-bit ('oldstocks': conda)",
   "language": "python",
   "name": "python3"
  },
  "language_info": {
   "codemirror_mode": {
    "name": "ipython",
    "version": 3
   },
   "file_extension": ".py",
   "mimetype": "text/x-python",
   "name": "python",
   "nbconvert_exporter": "python",
   "pygments_lexer": "ipython3",
   "version": "3.6.13"
  },
  "orig_nbformat": 4
 },
 "nbformat": 4,
 "nbformat_minor": 2
}
